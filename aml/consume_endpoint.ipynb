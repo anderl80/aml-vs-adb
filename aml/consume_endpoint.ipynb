{
 "cells": [
  {
   "cell_type": "markdown",
   "metadata": {},
   "source": [
    "# Copyright (c) 2021, Microsoft\n",
    "\n",
    "Permission to use, copy, modify, and/or distribute this software for any\n",
    "purpose with or without fee is hereby granted, provided that the above\n",
    "copyright notice and this permission notice appear in all copies.\n",
    "\n",
    "THE SOFTWARE IS PROVIDED \"AS IS\" AND THE AUTHOR DISCLAIMS ALL WARRANTIES WITH\n",
    "REGARD TO THIS SOFTWARE INCLUDING ALL IMPLIED WARRANTIES OF MERCHANTABILITY AND\n",
    "FITNESS. IN NO EVENT SHALL THE AUTHOR BE LIABLE FOR ANY SPECIAL, DIRECT,\n",
    "INDIRECT, OR CONSEQUENTIAL DAMAGES OR ANY DAMAGES WHATSOEVER RESULTING FROM\n",
    "LOSS OF USE, DATA OR PROFITS, WHETHER IN AN ACTION OF CONTRACT, NEGLIGENCE OR\n",
    "OTHER TORTIOUS ACTION, ARISING OUT OF OR IN CONNECTION WITH THE USE OR\n",
    "PERFORMANCE OF THIS SOFTWARE.\n",
    "\n",
    "DO NOT USE IN PRODUCTION ENVIRONMENTS."
   ]
  },
  {
   "cell_type": "markdown",
   "metadata": {},
   "source": [
    "# Consume service endpoint"
   ]
  },
  {
   "cell_type": "code",
   "execution_count": null,
   "metadata": {},
   "outputs": [],
   "source": [
    "import azureml.core\n",
    "from azureml.core import Workspace\n",
    "from azureml.core.experiment import Experiment\n",
    "from azureml.core.webservice import Webservice\n",
    "\n",
    "ws = Workspace.from_config() \n",
    "datastore = ws.get_default_datastore()\n",
    "experiment = Experiment(ws, 'trump-tweet-classification')\n",
    "service = Webservice(workspace=ws, name='trump-tweets-scoring-aml')"
   ]
  },
  {
   "cell_type": "code",
   "execution_count": null,
   "metadata": {},
   "outputs": [],
   "source": [
    "import json\n",
    "\n",
    "request = [\"The media is spreading fake news!\"]\n",
    "input_json = json.dumps({\"data\": request})\n",
    "predictions = service.run(input_data = input_json)\n",
    "response = json.loads(predictions)\n",
    "for item in sorted(response.items(), key=lambda x: x[1], reverse=True):\n",
    "    k, v = item\n",
    "    print (\"{:<25} {:<4} \".format(k, round(v,2)))"
   ]
  },
  {
   "cell_type": "code",
   "execution_count": null,
   "metadata": {
    "tags": []
   },
   "outputs": [],
   "source": [
    "print(service.get_logs())"
   ]
  }
 ],
 "metadata": {
  "kernelspec": {
   "name": "python362jvsc74a57bd0b325c1708bfb23a99d2da8d183818b06719bc1d8ed3a28f4f7618f1ddb204538",
   "display_name": "Python 3.6.2 64-bit ('rwe-poc-vbm-proper': conda)"
  },
  "language_info": {
   "name": "python",
   "version": "3.6.2-final"
  },
  "orig_nbformat": 2
 },
 "nbformat": 4,
 "nbformat_minor": 2
}